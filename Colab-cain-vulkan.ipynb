{
  "nbformat": 4,
  "nbformat_minor": 0,
  "metadata": {
    "colab": {
      "name": "Colab-cain-vulkan",
      "provenance": [],
      "private_outputs": true,
      "collapsed_sections": [],
      "toc_visible": true
    },
    "kernelspec": {
      "name": "python3",
      "display_name": "Python 3"
    },
    "accelerator": "GPU"
  },
  "cells": [
    {
      "cell_type": "markdown",
      "metadata": {
        "id": "ZlhoYtfIgReW",
        "colab_type": "text"
      },
      "source": [
        "# Colab-cain (vulkan)\n",
        "Vulkan version: [nihui/cain-ncnn-vulkan](https://github.com/nihui/cain-ncnn-vulkan)\n",
        "\n",
        "My fork: [styler00dollar /Colab-cain-ncnn-vulkan](https://github.com/styler00dollar/Colab-cain-ncnn-vulkan)\n",
        "\n",
        "Info: Download the required zip file and place it in your google drive. You can find it here."
      ]
    },
    {
      "cell_type": "code",
      "metadata": {
        "id": "7r8--tSpsbkw",
        "colab_type": "code",
        "colab": {}
      },
      "source": [
        "!nvidia-smi"
      ],
      "execution_count": null,
      "outputs": []
    },
    {
      "cell_type": "code",
      "metadata": {
        "id": "tPzP4o87w3zW",
        "colab_type": "code",
        "colab": {}
      },
      "source": [
        "# Connect Google Drive\n",
        "from google.colab import drive\n",
        "drive.mount('/content/drive')\n",
        "print('Google Drive connected.')"
      ],
      "execution_count": null,
      "outputs": []
    },
    {
      "cell_type": "code",
      "metadata": {
        "id": "qNpyQe1GxB-L",
        "colab_type": "code",
        "colab": {}
      },
      "source": [
        "# Copy precompiled code from drive into colab\n",
        "!cp \"/content/drive/My Drive/cain-ncnn-vulkan-artifact-ubuntu-16.04.zip\" \"/content/cain-ncnn-vulkan-artifact-ubuntu-16.04.zip\"\n",
        "!unzip \"/content/cain-ncnn-vulkan-artifact-ubuntu-16.04.zip\"\n",
        "!sudo apt-get install -y libvulkan-dev\n",
        "!mkdir /content/input_frames\n",
        "!mkdir /content/output_frames"
      ],
      "execution_count": null,
      "outputs": []
    },
    {
      "cell_type": "markdown",
      "metadata": {
        "id": "i_mOtAsjh1Lb",
        "colab_type": "text"
      },
      "source": [
        "You can wget a video, or upload it yourself."
      ]
    },
    {
      "cell_type": "code",
      "metadata": {
        "id": "yzGxdmD7ni9g",
        "colab_type": "code",
        "colab": {}
      },
      "source": [
        "!wget ..."
      ],
      "execution_count": null,
      "outputs": []
    },
    {
      "cell_type": "code",
      "metadata": {
        "id": "mqVoSdkNl9P2",
        "colab_type": "code",
        "colab": {}
      },
      "source": [
        "!ffmpeg -i /content/video.webm /content/input_frames/frame_%06d.png\n",
        "%cd /content/\n",
        "!chmod +x ./cain-ncnn-vulkan\n",
        "!./cain-ncnn-vulkan -i /content/input_frames/ -o /content/output_frames/"
      ],
      "execution_count": null,
      "outputs": []
    },
    {
      "cell_type": "code",
      "metadata": {
        "id": "CoxGUi7bX7Fb",
        "colab_type": "code",
        "colab": {}
      },
      "source": [
        "# Determine FPS and set 2x in the next cell\n",
        "!ffprobe /content/video.webm"
      ],
      "execution_count": null,
      "outputs": []
    },
    {
      "cell_type": "code",
      "metadata": {
        "id": "ns915xnomA-w",
        "colab_type": "code",
        "colab": {}
      },
      "source": [
        "# Encode interpolated frames\n",
        "#!ffmpeg -framerate 48 -i /content/output_frames/%06d.png -i audio.m4a -c:a copy -crf 20 -c:v libx264 -pix_fmt yuv420p /content/output.mp4\n",
        "!ffmpeg -framerate 48 -i /content/output_frames/%06d.png -crf 20 -c:v libx264 -pix_fmt yuv420p /content/output.mp4"
      ],
      "execution_count": null,
      "outputs": []
    },
    {
      "cell_type": "code",
      "metadata": {
        "id": "ifG9XJ1qZz31",
        "colab_type": "code",
        "colab": {}
      },
      "source": [
        "# Delete folders if needed\n",
        "%cd /content/\n",
        "!sudo rm -rf /content/input_frames\n",
        "!sudo rm -rf /content/output_frames"
      ],
      "execution_count": null,
      "outputs": []
    }
  ]
}